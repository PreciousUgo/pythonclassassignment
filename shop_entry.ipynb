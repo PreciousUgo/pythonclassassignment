{
 "cells": [
  {
   "cell_type": "code",
   "execution_count": 5,
   "id": "7810ba44",
   "metadata": {},
   "outputs": [],
   "source": [
    "cake=\"cake\"\n",
    "cereals=\"cereals\"\n",
    "hotdog=\"hotdog\"\n",
    "mayonaisse=\"mayonaisse\"\n",
    "bread=\"bread\"\n",
    "fanta=\"fanta\""
   ]
  },
  {
   "cell_type": "code",
   "execution_count": 8,
   "id": "d67b3e2b",
   "metadata": {},
   "outputs": [
    {
     "name": "stdout",
     "output_type": "stream",
     "text": [
      "Enter an item namebread\n",
      "Enter quantity5\n",
      " CEREALSCEREALSCEREALSCEREALSCEREALSCEREALSCEREALSCEREALSCEREALSCEREALSMAYONAISSE---10,BREAD---5,\n",
      "86\n",
      "['CEREALSCEREALSCEREALSCEREALSCEREALSCEREALSCEREALSCEREALSCEREALSCEREALSMAYONAISSE---10', 'BREAD---5', '']\n",
      "CEREALSCEREALSCEREALSCEREALSCEREALSCEREALSCEREALSCEREALSCEREALSCEREALSMAYONAISSE---10\n",
      "10\n"
     ]
    }
   ],
   "source": [
    "#def shop(ini_shp)\n",
    "itm=input(\"Enter an item name\")\n",
    "qty=input(\"Enter quantity\")\n",
    "entry+=itm+\"---\"+qty+\",\"\n",
    "shp_entry=entry.upper()\n",
    "print(\"\",shp_entry)\n",
    "y=shp_entry.find(itm.upper())\n",
    "print(y)\n",
    "x1=shp_entry.split(\",\")\n",
    "print(x1)\n",
    "print(x1[0])\n",
    "y1=x1[0]\n",
    "z1=y1.split(\"---\")\n",
    "print(z1[1])\n",
    "#if y!=-1\n",
    "   #yx=shp_enry.find(itm.upper())\n",
    "   #yz=len(itm.upper())\n",
    "   #yy=shp_entry[yx:yx+(yz+3)]\n",
    "   #uy=shp_entry[len(yy):]\n",
    "   #print(yy)\n",
    "   #print(uy)\n",
    "   #print(uy[0:2])"
   ]
  },
  {
   "cell_type": "code",
   "execution_count": 7,
   "id": "f131520c",
   "metadata": {},
   "outputs": [],
   "source": [
    "cart=\" \""
   ]
  },
  {
   "cell_type": "code",
   "execution_count": null,
   "id": "b174084a",
   "metadata": {},
   "outputs": [],
   "source": []
  }
 ],
 "metadata": {
  "kernelspec": {
   "display_name": "Python 3 (ipykernel)",
   "language": "python",
   "name": "python3"
  },
  "language_info": {
   "codemirror_mode": {
    "name": "ipython",
    "version": 3
   },
   "file_extension": ".py",
   "mimetype": "text/x-python",
   "name": "python",
   "nbconvert_exporter": "python",
   "pygments_lexer": "ipython3",
   "version": "3.10.2"
  }
 },
 "nbformat": 4,
 "nbformat_minor": 5
}
